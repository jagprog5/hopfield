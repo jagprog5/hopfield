{
 "cells": [
  {
   "cell_type": "code",
   "execution_count": 25,
   "metadata": {},
   "outputs": [],
   "source": [
    "import numpy as np\n",
    "import time, os\n",
    "\n",
    "class HopfieldNetwork:\n",
    "    def __init__(self, patterns, dtype=np.float):\n",
    "        '''\n",
    "        a discrete Hopfield network.\\n\n",
    "        patterns: a non-empty container which contains the patterns to be stored in the network.\n",
    "        each pattern is a numpy array of int [1, -1], each of the same length\n",
    "        '''\n",
    "        input_size = patterns[0].shape[0]\n",
    "        self.matrix = np.zeros((input_size, input_size), dtype=dtype)\n",
    "        for p in patterns:\n",
    "            self.matrix += np.outer(p, p)\n",
    "        np.fill_diagonal(self.matrix, 0)\n",
    "    \n",
    "    def get_synchronous(self, pattern):\n",
    "        '''\n",
    "        modifies the input, attempting to retrieve the most similar stored pattern.\\n\n",
    "        all elements are updated at the same time\n",
    "        '''\n",
    "        output_write = pattern\n",
    "        while True:\n",
    "            mat_out = np.matmul(self.matrix, pattern)\n",
    "            new_pattern = np.ones(mat_out.shape, dtype=np.int)\n",
    "            np.copysign(new_pattern, mat_out)\n",
    "            change_occured = np.array_equal(new_pattern, pattern)\n",
    "            if change_occured:\n",
    "                break\n",
    "            pattern = new_pattern\n",
    "        output_write[:] = new_pattern\n",
    "\n",
    "    def get_stochastic(self, pattern, seed=(int(time.time()) * os.getpid()) & 0x7FFFFFFF):\n",
    "        '''\n",
    "        modifies the input, attempting to retrieve the most similar stored pattern.\\n\n",
    "        the update order is deterministic, random, and cyclic.\n",
    "        '''\n",
    "        random_state = np.random.RandomState(seed)\n",
    "        while True:\n",
    "            candidate_indices = [i for i in range(self.matrix.shape[0])]\n",
    "            random_state.shuffle(candidate_indices)\n",
    "            change_occured = False\n",
    "            while len(candidate_indices) != 0:\n",
    "                candidate_indices_index = random_state.randint(0, len(candidate_indices))\n",
    "                index = candidate_indices[candidate_indices_index]\n",
    "                del candidate_indices[candidate_indices_index]\n",
    "\n",
    "                next_at_index = 1 if np.positive(np.dot(self.matrix[index], pattern)) else -1\n",
    "                if next_at_index != pattern[index]:\n",
    "                    change_occured = True\n",
    "                pattern[index] = next_at_index\n",
    "            if not change_occured:\n",
    "                break\n"
   ]
  },
  {
   "cell_type": "code",
   "execution_count": 26,
   "metadata": {},
   "outputs": [
    {
     "name": "stdout",
     "output_type": "stream",
     "text": [
      "[1, 1, 1, 1, 1, 1]\n"
     ]
    }
   ],
   "source": [
    "pattern_1 = np.array([1,  1,  1,  1,  1,  1])\n",
    "pattern_2 = np.array([1, -1,  1, -1,  1, -1])\n",
    "patterns = [pattern_1, pattern_2]\n",
    "h = HopfieldNetwork(patterns)\n",
    "\n",
    "retrieval = [1,  1,  1,  1,  1, -1]\n",
    "h.get_synchronous(retrieval)\n",
    "print(retrieval)\n"
   ]
  }
 ],
 "metadata": {
  "kernelspec": {
   "display_name": "Python 3",
   "language": "python",
   "name": "python3"
  },
  "language_info": {
   "codemirror_mode": {
    "name": "ipython",
    "version": 3
   },
   "file_extension": ".py",
   "mimetype": "text/x-python",
   "name": "python",
   "nbconvert_exporter": "python",
   "pygments_lexer": "ipython3",
   "version": "3.6.9"
  },
  "orig_nbformat": 4,
  "vscode": {
   "interpreter": {
    "hash": "31f2aee4e71d21fbe5cf8b01ff0e069b9275f58929596ceb00d14d90e3e16cd6"
   }
  }
 },
 "nbformat": 4,
 "nbformat_minor": 2
}
